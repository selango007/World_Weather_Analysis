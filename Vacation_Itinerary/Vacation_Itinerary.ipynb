{
 "cells": [
  {
   "cell_type": "markdown",
   "metadata": {},
   "source": [
    "## Deliverable 3. Create a Travel Itinerary Map."
   ]
  },
  {
   "cell_type": "code",
   "execution_count": 1,
   "metadata": {},
   "outputs": [],
   "source": [
    "# Dependencies and Setup\n",
    "import pandas as pd\n",
    "import requests\n",
    "import gmaps\n",
    "\n",
    "# Import API key\n",
    "from config import g_key\n",
    "\n",
    "# Configure gmaps\n",
    "gmaps.configure(api_key=g_key)"
   ]
  },
  {
   "cell_type": "code",
   "execution_count": 2,
   "metadata": {},
   "outputs": [
    {
     "data": {
      "text/html": [
       "<div>\n",
       "<style scoped>\n",
       "    .dataframe tbody tr th:only-of-type {\n",
       "        vertical-align: middle;\n",
       "    }\n",
       "\n",
       "    .dataframe tbody tr th {\n",
       "        vertical-align: top;\n",
       "    }\n",
       "\n",
       "    .dataframe thead th {\n",
       "        text-align: right;\n",
       "    }\n",
       "</style>\n",
       "<table border=\"1\" class=\"dataframe\">\n",
       "  <thead>\n",
       "    <tr style=\"text-align: right;\">\n",
       "      <th></th>\n",
       "      <th>City_ID</th>\n",
       "      <th>City</th>\n",
       "      <th>Country</th>\n",
       "      <th>Max Temp</th>\n",
       "      <th>Lat</th>\n",
       "      <th>Lng</th>\n",
       "      <th>Hotel Name</th>\n",
       "    </tr>\n",
       "  </thead>\n",
       "  <tbody>\n",
       "    <tr>\n",
       "      <th>0</th>\n",
       "      <td>4</td>\n",
       "      <td>Manbij</td>\n",
       "      <td>SY</td>\n",
       "      <td>84.97</td>\n",
       "      <td>36.5281</td>\n",
       "      <td>37.9549</td>\n",
       "      <td>Manbej City Hotel</td>\n",
       "    </tr>\n",
       "    <tr>\n",
       "      <th>1</th>\n",
       "      <td>6</td>\n",
       "      <td>Kapaa</td>\n",
       "      <td>US</td>\n",
       "      <td>84.52</td>\n",
       "      <td>22.0752</td>\n",
       "      <td>-159.3190</td>\n",
       "      <td>Sheraton Kauai Coconut Beach Resort</td>\n",
       "    </tr>\n",
       "    <tr>\n",
       "      <th>2</th>\n",
       "      <td>13</td>\n",
       "      <td>Roma</td>\n",
       "      <td>US</td>\n",
       "      <td>78.94</td>\n",
       "      <td>43.2128</td>\n",
       "      <td>-75.4557</td>\n",
       "      <td>Wingate By Wyndham Rome</td>\n",
       "    </tr>\n",
       "    <tr>\n",
       "      <th>3</th>\n",
       "      <td>14</td>\n",
       "      <td>Butaritari</td>\n",
       "      <td>KI</td>\n",
       "      <td>83.23</td>\n",
       "      <td>3.0707</td>\n",
       "      <td>172.7902</td>\n",
       "      <td>Isles Sunset Lodge</td>\n",
       "    </tr>\n",
       "    <tr>\n",
       "      <th>4</th>\n",
       "      <td>16</td>\n",
       "      <td>Sao Filipe</td>\n",
       "      <td>CV</td>\n",
       "      <td>75.00</td>\n",
       "      <td>14.8961</td>\n",
       "      <td>-24.4956</td>\n",
       "      <td>Hotel Xaguate</td>\n",
       "    </tr>\n",
       "  </tbody>\n",
       "</table>\n",
       "</div>"
      ],
      "text/plain": [
       "   City_ID        City Country  Max Temp      Lat       Lng  \\\n",
       "0        4      Manbij      SY     84.97  36.5281   37.9549   \n",
       "1        6       Kapaa      US     84.52  22.0752 -159.3190   \n",
       "2       13        Roma      US     78.94  43.2128  -75.4557   \n",
       "3       14  Butaritari      KI     83.23   3.0707  172.7902   \n",
       "4       16  Sao Filipe      CV     75.00  14.8961  -24.4956   \n",
       "\n",
       "                            Hotel Name  \n",
       "0                    Manbej City Hotel  \n",
       "1  Sheraton Kauai Coconut Beach Resort  \n",
       "2              Wingate By Wyndham Rome  \n",
       "3                   Isles Sunset Lodge  \n",
       "4                        Hotel Xaguate  "
      ]
     },
     "execution_count": 2,
     "metadata": {},
     "output_type": "execute_result"
    }
   ],
   "source": [
    "# 1. Read the WeatherPy_vacation.csv into a DataFrame.\n",
    "vacation_df = pd.read_csv(\"../Vacation_Search/WeatherPy_vacation.csv\")\n",
    "vacation_df.head()"
   ]
  },
  {
   "cell_type": "code",
   "execution_count": 3,
   "metadata": {},
   "outputs": [],
   "source": [
    "# 2. Using the template add the city name, the country code, the weather description and maximum temperature for the city.\n",
    "info_box_template = \"\"\"\n",
    "<dl>\n",
    "<dt>City</dt><dd>{City}</dd>\n",
    "<dt>Country</dt><dd>{Country}</dd>\n",
    "<dt>Max Temp</dt><dd>{Max Temp} °F</dd>\n",
    "</dl>\n",
    "\"\"\"\n",
    "\n",
    "# 3a. Get the data from each row and add it to the formatting template and store the data in a list.\n",
    "hotel_info = [info_box_template.format(**row) for index, row in vacation_df.iterrows()]\n",
    "\n",
    "# 3b. Get the latitude and longitude from each row and store in a new DataFrame.\n",
    "locations = vacation_df[[\"Lat\", \"Lng\"]]"
   ]
  },
  {
   "cell_type": "code",
   "execution_count": 4,
   "metadata": {},
   "outputs": [
    {
     "data": {
      "application/vnd.jupyter.widget-view+json": {
       "model_id": "d80133f17608435ba1a25499c5b42e23",
       "version_major": 2,
       "version_minor": 0
      },
      "text/plain": [
       "Figure(layout=FigureLayout(height='420px'))"
      ]
     },
     "metadata": {},
     "output_type": "display_data"
    }
   ],
   "source": [
    "# 4a. Add a marker layer for each city to the map.\n",
    "locations = vacation_df[[\"Lat\", \"Lng\"]]\n",
    "city_name = vacation_df[\"City\"]\n",
    "fig = gmaps.figure(center=(30.0, 31.0), zoom_level=1.5)\n",
    "heat_layer = gmaps.heatmap_layer(locations,dissipating=False,\n",
    "             max_intensity=300, point_radius=4)\n",
    "marker_layer = gmaps.marker_layer(locations, info_box_content=hotel_info)\n",
    "fig.add_layer(heat_layer)\n",
    "fig.add_layer(marker_layer)\n",
    "\n",
    "# 4b. Display the figure\n",
    "fig\n"
   ]
  },
  {
   "cell_type": "code",
   "execution_count": 5,
   "metadata": {},
   "outputs": [],
   "source": [
    "# From the map above pick 4 cities and create a vacation itinerary route to travel between the four cities. \n",
    "# 5. Create DataFrames for each city by filtering the 'vacation_df' using the loc method. \n",
    "# Hint: The starting and ending city should be the same city.\n",
    "\n",
    "vacation_spots = vacation_df.loc[(vacation_df['Country'] ==\"US\") & \\\n",
    "                                 (vacation_df['Max Temp'] <= 81) & \\\n",
    "                                 (vacation_df['Max Temp'] >= 80)\n",
    "                                ]\n",
    "\n",
    "vacation_spots.reset_index(inplace=True)\n",
    "\n",
    "vacation_start = pd.DataFrame(vacation_spots.loc[0]).T\n",
    "vacation_end = pd.DataFrame(vacation_spots.loc[0]).T\n",
    "vacation_stop1 = pd.DataFrame(vacation_spots.loc[1]).T\n",
    "vacation_stop2 = pd.DataFrame(vacation_spots.loc[2]).T\n",
    "vacation_stop3 = pd.DataFrame(vacation_spots.loc[3]).T"
   ]
  },
  {
   "cell_type": "code",
   "execution_count": 6,
   "metadata": {},
   "outputs": [],
   "source": [
    "# 6. Get the latitude-longitude pairs as tuples from each city DataFrame using the to_numpy function and list indexing.\n",
    "start = vacation_start[[\"Lat\",\"Lng\"]].copy()\n",
    "start_location = (start.loc[0,'Lat'],start.loc[0,'Lng'])\n",
    "\n",
    "end = vacation_end[['Lat', 'Lng']].copy()\n",
    "end_location = (end.loc[0,'Lat'],end.loc[0,'Lng'])\n",
    "\n",
    "\n",
    "stop1 = vacation_stop1[['Lat', 'Lng']].copy()\n",
    "stop1_location = (stop1.loc[1,'Lat'],stop1.loc[1,'Lng'])\n",
    "\n",
    "stop2 = vacation_stop2[['Lat', 'Lng']].copy()\n",
    "stop2_location = (stop2.loc[2,'Lat'],stop2.loc[2,'Lng'])\n",
    "\n",
    "stop3 = vacation_stop3[['Lat', 'Lng']].copy()\n",
    "stop3_location = (stop3.loc[3,'Lat'],stop3.loc[3,'Lng'])\n",
    "\n",
    "waypoints = []\n",
    "\n",
    "waypoints.append(stop1_location)\n",
    "waypoints.append(stop2_location)\n",
    "waypoints.append(stop3_location)\n"
   ]
  },
  {
   "cell_type": "code",
   "execution_count": 7,
   "metadata": {
    "scrolled": true
   },
   "outputs": [
    {
     "data": {
      "application/vnd.jupyter.widget-view+json": {
       "model_id": "d6f53fac34a942ceb9e09b391bacf5c6",
       "version_major": 2,
       "version_minor": 0
      },
      "text/plain": [
       "Figure(layout=FigureLayout(height='420px'))"
      ]
     },
     "metadata": {},
     "output_type": "display_data"
    }
   ],
   "source": [
    "# 7. Create a direction layer map using the start and end latitude-longitude pairs,\n",
    "# and stop1, stop2, and stop3 as the waypoints. The travel_mode should be \"DRIVING\", \"BICYCLING\", or \"WALKING\".\n",
    "import gmaps\n",
    "import gmaps.datasets\n",
    "\n",
    "locations_list = []\n",
    "locations_list.append(start_location)\n",
    "locations_list.append(stop1_location)\n",
    "locations_list.append(stop2_location)\n",
    "locations_list.append(stop3_location)\n",
    "locations_list.append(end_location)\n",
    "\n",
    "fig = gmaps.figure()\n",
    "markers = gmaps.marker_layer(locations_list)\n",
    "directions = gmaps.directions_layer(start_location,end_location,waypoints=waypoints)\n",
    "fig.add_layer(markers)\n",
    "fig.add_layer(directions)\n",
    "fig"
   ]
  },
  {
   "cell_type": "code",
   "execution_count": 8,
   "metadata": {},
   "outputs": [
    {
     "data": {
      "text/html": [
       "<div>\n",
       "<style scoped>\n",
       "    .dataframe tbody tr th:only-of-type {\n",
       "        vertical-align: middle;\n",
       "    }\n",
       "\n",
       "    .dataframe tbody tr th {\n",
       "        vertical-align: top;\n",
       "    }\n",
       "\n",
       "    .dataframe thead th {\n",
       "        text-align: right;\n",
       "    }\n",
       "</style>\n",
       "<table border=\"1\" class=\"dataframe\">\n",
       "  <thead>\n",
       "    <tr style=\"text-align: right;\">\n",
       "      <th></th>\n",
       "      <th>index</th>\n",
       "      <th>City_ID</th>\n",
       "      <th>City</th>\n",
       "      <th>Country</th>\n",
       "      <th>Max Temp</th>\n",
       "      <th>Lat</th>\n",
       "      <th>Lng</th>\n",
       "      <th>Hotel Name</th>\n",
       "    </tr>\n",
       "  </thead>\n",
       "  <tbody>\n",
       "    <tr>\n",
       "      <th>0</th>\n",
       "      <td>13</td>\n",
       "      <td>46</td>\n",
       "      <td>Bud</td>\n",
       "      <td>US</td>\n",
       "      <td>80.58</td>\n",
       "      <td>39.447</td>\n",
       "      <td>-86.1758</td>\n",
       "      <td>Ted McQuinn Trust</td>\n",
       "    </tr>\n",
       "    <tr>\n",
       "      <th>1</th>\n",
       "      <td>138</td>\n",
       "      <td>458</td>\n",
       "      <td>Laurel</td>\n",
       "      <td>US</td>\n",
       "      <td>80.42</td>\n",
       "      <td>39.0993</td>\n",
       "      <td>-76.8483</td>\n",
       "      <td>Days Inn &amp; Suites by Wyndham Laurel Near Fort ...</td>\n",
       "    </tr>\n",
       "    <tr>\n",
       "      <th>2</th>\n",
       "      <td>148</td>\n",
       "      <td>489</td>\n",
       "      <td>Irmo</td>\n",
       "      <td>US</td>\n",
       "      <td>80.26</td>\n",
       "      <td>34.086</td>\n",
       "      <td>-81.1832</td>\n",
       "      <td>Hilton Garden Inn Columbia/Harbison</td>\n",
       "    </tr>\n",
       "    <tr>\n",
       "      <th>3</th>\n",
       "      <td>151</td>\n",
       "      <td>494</td>\n",
       "      <td>Lansing</td>\n",
       "      <td>US</td>\n",
       "      <td>80.65</td>\n",
       "      <td>42.7325</td>\n",
       "      <td>-84.5555</td>\n",
       "      <td>Quality Inn University</td>\n",
       "    </tr>\n",
       "    <tr>\n",
       "      <th>4</th>\n",
       "      <td>13</td>\n",
       "      <td>46</td>\n",
       "      <td>Bud</td>\n",
       "      <td>US</td>\n",
       "      <td>80.58</td>\n",
       "      <td>39.447</td>\n",
       "      <td>-86.1758</td>\n",
       "      <td>Ted McQuinn Trust</td>\n",
       "    </tr>\n",
       "  </tbody>\n",
       "</table>\n",
       "</div>"
      ],
      "text/plain": [
       "  index City_ID     City Country Max Temp      Lat      Lng  \\\n",
       "0    13      46      Bud      US    80.58   39.447 -86.1758   \n",
       "1   138     458   Laurel      US    80.42  39.0993 -76.8483   \n",
       "2   148     489     Irmo      US    80.26   34.086 -81.1832   \n",
       "3   151     494  Lansing      US    80.65  42.7325 -84.5555   \n",
       "4    13      46      Bud      US    80.58   39.447 -86.1758   \n",
       "\n",
       "                                          Hotel Name  \n",
       "0                                  Ted McQuinn Trust  \n",
       "1  Days Inn & Suites by Wyndham Laurel Near Fort ...  \n",
       "2                Hilton Garden Inn Columbia/Harbison  \n",
       "3                             Quality Inn University  \n",
       "4                                  Ted McQuinn Trust  "
      ]
     },
     "execution_count": 8,
     "metadata": {},
     "output_type": "execute_result"
    }
   ],
   "source": [
    "# 8. To create a marker layer map between the four cities.\n",
    "#  Combine the four city DataFrames into one DataFrame using the concat() function.\n",
    "itinerary_df = pd.concat([vacation_start,vacation_stop1,vacation_stop2,vacation_stop3,vacation_end],ignore_index=True)\n",
    "itinerary_df"
   ]
  },
  {
   "cell_type": "code",
   "execution_count": 9,
   "metadata": {},
   "outputs": [],
   "source": [
    "# 9 Using the template add city name, the country code, the weather description and maximum temperature for the city. \n",
    "info_box_template = \"\"\"\n",
    "<dl>\n",
    "<dt>City</dt><dd>{City}</dd>\n",
    "<dt>Country</dt><dd>{Country}</dd>\n",
    "<dt>Max Temp</dt><dd>{Max Temp} °F</dd>\n",
    "</dl>\n",
    "\"\"\"\n",
    "\n",
    "# 10a Get the data from each row and add it to the formatting template and store the data in a list.\n",
    "hotel_info = [info_box_template.format(**row) for index, row in itinerary_df.iterrows()]\n",
    "\n",
    "# 10b. Get the latitude and longitude from each row and store in a new DataFrame.\n",
    "locations = itinerary_df[[\"Lat\", \"Lng\"]]"
   ]
  },
  {
   "cell_type": "code",
   "execution_count": 10,
   "metadata": {},
   "outputs": [
    {
     "data": {
      "application/vnd.jupyter.widget-view+json": {
       "model_id": "f360dbbdf3ba4ab989fb4de956a71298",
       "version_major": 2,
       "version_minor": 0
      },
      "text/plain": [
       "Figure(layout=FigureLayout(height='420px'))"
      ]
     },
     "metadata": {},
     "output_type": "display_data"
    }
   ],
   "source": [
    "# 11a. Add a marker layer for each city to the map.\n",
    "locations = itinerary_df[[\"Lat\", \"Lng\"]]\n",
    "max_temp = itinerary_df[\"Max Temp\"]\n",
    "fig = gmaps.figure(center=(30.0, 31.0), zoom_level=1.5)\n",
    "heat_layer = gmaps.heatmap_layer(locations_list, weights=max_temp,dissipating=False,\n",
    "             max_intensity=300, point_radius=4)\n",
    "marker_layer = gmaps.marker_layer(locations_list, info_box_content=hotel_info)\n",
    "fig.add_layer(heat_layer)\n",
    "fig.add_layer(marker_layer)\n",
    "# 11b. Display the figure\n",
    "fig"
   ]
  },
  {
   "cell_type": "code",
   "execution_count": null,
   "metadata": {},
   "outputs": [],
   "source": []
  }
 ],
 "metadata": {
  "kernelspec": {
   "display_name": "PythonData",
   "language": "python",
   "name": "pythondata"
  },
  "language_info": {
   "codemirror_mode": {
    "name": "ipython",
    "version": 3
   },
   "file_extension": ".py",
   "mimetype": "text/x-python",
   "name": "python",
   "nbconvert_exporter": "python",
   "pygments_lexer": "ipython3",
   "version": "3.8.8"
  },
  "latex_envs": {
   "LaTeX_envs_menu_present": true,
   "autoclose": false,
   "autocomplete": true,
   "bibliofile": "biblio.bib",
   "cite_by": "apalike",
   "current_citInitial": 1,
   "eqLabelWithNumbers": true,
   "eqNumInitial": 1,
   "hotkeys": {
    "equation": "Ctrl-E",
    "itemize": "Ctrl-I"
   },
   "labels_anchors": false,
   "latex_user_defs": false,
   "report_style_numbering": false,
   "user_envs_cfg": false
  }
 },
 "nbformat": 4,
 "nbformat_minor": 2
}
